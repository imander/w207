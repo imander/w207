{
 "cells": [
  {
   "cell_type": "markdown",
   "metadata": {
    "colab_type": "text",
    "id": "z6UHmLYVhWAN"
   },
   "source": [
    "# Project 1: Digit Classification with KNN and Naive Bayes"
   ]
  },
  {
   "cell_type": "markdown",
   "metadata": {
    "colab_type": "text",
    "id": "03M_JSg3hWAO"
   },
   "source": [
    "In this project, you'll implement your own image recognition system for classifying digits. Read through the code and the instructions carefully and add your own code where indicated. Each problem can be addressed succinctly with the included packages -- please don't add any more. Grading will be based on writing clean, commented code, along with a few short answers.\n",
    "\n",
    "As always, you're welcome to work on the project in groups and discuss ideas on the course wall, but <b> please prepare your own write-up (with your own code). </b>\n",
    "\n",
    "If you're interested, check out these links related to digit recognition:\n",
    "\n",
    "* Yann Lecun's MNIST benchmarks: http://yann.lecun.com/exdb/mnist/\n",
    "* Stanford Streetview research and data: http://ufldl.stanford.edu/housenumbers/\n",
    "\n",
    "Finally, if you'd like to get started with Tensorflow, you can read through this tutorial: https://www.tensorflow.org/tutorials/keras/basic_classification. It uses a dataset called \"fashion_mnist\", which is identical in structure to the original digit mnist, but uses images of clothing rather than images of digits. The number of training examples and number of labels is the same. In fact, you can simply replace the code that loads \"fashion_mnist\" with \"mnist\" and everything should work fine."
   ]
  },
  {
   "cell_type": "code",
   "execution_count": 238,
   "metadata": {
    "colab": {},
    "colab_type": "code",
    "id": "iJ9ayCvyhWAP"
   },
   "outputs": [],
   "source": [
    "# This tells matplotlib not to try opening a new window for each plot.\n",
    "%matplotlib inline\n",
    "\n",
    "# Import a bunch of libraries.\n",
    "import time\n",
    "import numpy as np\n",
    "import matplotlib.pyplot as plt\n",
    "from matplotlib.ticker import MultipleLocator\n",
    "from sklearn.pipeline import Pipeline\n",
    "from sklearn.datasets import fetch_openml\n",
    "from sklearn.neighbors import KNeighborsClassifier\n",
    "from sklearn.metrics import confusion_matrix\n",
    "from sklearn.linear_model import LinearRegression\n",
    "from sklearn.naive_bayes import BernoulliNB\n",
    "from sklearn.naive_bayes import MultinomialNB\n",
    "from sklearn.naive_bayes import GaussianNB\n",
    "from sklearn.model_selection import GridSearchCV\n",
    "from sklearn.metrics import classification_report\n",
    "from tabulate import tabulate\n",
    "\n",
    "# Set the randomizer seed so results are the same each time.\n",
    "np.random.seed(0)"
   ]
  },
  {
   "cell_type": "code",
   "execution_count": 239,
   "metadata": {},
   "outputs": [
    {
     "data": {
      "text/plain": [
       "'0.21.3'"
      ]
     },
     "execution_count": 239,
     "metadata": {},
     "output_type": "execute_result"
    }
   ],
   "source": [
    "import sklearn\n",
    "sklearn.__version__"
   ]
  },
  {
   "cell_type": "markdown",
   "metadata": {
    "colab_type": "text",
    "id": "sO1t0ypThWAR"
   },
   "source": [
    "Load the data. Notice that the data gets partitioned into training, development, and test sets. Also, a small subset of the training data called mini_train_data and mini_train_labels gets defined, which you should use in all the experiments below, unless otherwise noted."
   ]
  },
  {
   "cell_type": "code",
   "execution_count": 240,
   "metadata": {
    "colab": {},
    "colab_type": "code",
    "id": "3yK9DacchWAS"
   },
   "outputs": [
    {
     "name": "stdout",
     "output_type": "stream",
     "text": [
      "data shape:  (70000, 784)\n",
      "label shape: (70000,)\n"
     ]
    }
   ],
   "source": [
    "# Load the digit data from https://www.openml.org/d/554 or from default local location '~/scikit_learn_data/...'\n",
    "X, Y = fetch_openml(name='mnist_784', return_X_y=True, cache=False)\n",
    "\n",
    "\n",
    "# Rescale grayscale values to [0,1].\n",
    "X = X / 255.0\n",
    "\n",
    "# Shuffle the input: create a random permutation of the integers between 0 and the number of data points and apply this\n",
    "# permutation to X and Y.\n",
    "# NOTE: Each time you run this cell, you'll re-shuffle the data, resulting in a different ordering.\n",
    "shuffle = np.random.permutation(np.arange(X.shape[0]))\n",
    "X, Y = X[shuffle], Y[shuffle]\n",
    "\n",
    "print('data shape: ', X.shape)\n",
    "print('label shape:', Y.shape)\n",
    "\n",
    "# Set some variables to hold test, dev, and training data.\n",
    "test_data, test_labels = X[61000:], Y[61000:]\n",
    "dev_data, dev_labels = X[60000:61000], Y[60000:61000]\n",
    "train_data, train_labels = X[:60000], Y[:60000]\n",
    "mini_train_data, mini_train_labels = X[:1000], Y[:1000]"
   ]
  },
  {
   "cell_type": "code",
   "execution_count": 241,
   "metadata": {},
   "outputs": [
    {
     "data": {
      "text/plain": [
       "numpy.ndarray"
      ]
     },
     "execution_count": 241,
     "metadata": {},
     "output_type": "execute_result"
    }
   ],
   "source": [
    "type(Y)"
   ]
  },
  {
   "cell_type": "markdown",
   "metadata": {
    "colab_type": "text",
    "id": "atc2JpWKhWAV"
   },
   "source": [
    "### Part 1:\n",
    "\n",
    "Show a 10x10 grid that visualizes 10 examples of each digit.\n",
    "\n",
    "Notes:\n",
    "* You can use `plt.rc()` for setting the colormap, for example to black and white.\n",
    "* You can use `plt.subplot()` for creating subplots.\n",
    "* You can use `plt.imshow()` for rendering a matrix.\n",
    "* You can use `np.array.reshape()` for reshaping a 1D feature vector into a 2D matrix (for rendering)."
   ]
  },
  {
   "cell_type": "code",
   "execution_count": 242,
   "metadata": {
    "colab": {},
    "colab_type": "code",
    "id": "436UeH7JhWAW"
   },
   "outputs": [
    {
     "data": {
      "image/png": "[encoded data removed]",
      "text/plain": [
       "<Figure size 432x288 with 100 Axes>"
      ]
     },
     "metadata": {
      "needs_background": "light"
     },
     "output_type": "display_data"
    }
   ],
   "source": [
    "def P1(num_examples=10):\n",
    "\n",
    "### STUDENT START ###\n",
    "\n",
    "    # Get a count of the unique number of labels\n",
    "    # Dynamically generating this value in case there\n",
    "    # are digits missing from the sample data\n",
    "    num_labels = len(np.unique(Y))\n",
    "    \n",
    "    # index is used to iterate through each grid position\n",
    "    # The size of the grid is num_labels * num_examples\n",
    "    index = 1\n",
    "\n",
    "    # iterate through each label\n",
    "    for label in np.unique(Y):\n",
    "        \n",
    "        # Create a ndarray of size num_examples and of type \"label\"\n",
    "        sample_digits = X[Y == label][:num_examples]\n",
    "        \n",
    "        # Iterate through each of the sample_digits\n",
    "        for digit in sample_digits:\n",
    "            \n",
    "            # Create a subplot at the specified index\n",
    "            plt.subplot(num_labels, num_examples, index)\n",
    "            \n",
    "            # Hide tickmarks and scale\n",
    "            plt.axis('off')\n",
    "        \n",
    "            # Reshape and plot the sample digit\n",
    "            plt.imshow(digit.reshape((28,28)), cmap='binary')\n",
    "            \n",
    "            # move index to next element\n",
    "            index += 1\n",
    "\n",
    "### STUDENT END ###\n",
    "\n",
    "P1(10)"
   ]
  },
  {
   "cell_type": "markdown",
   "metadata": {
    "colab_type": "text",
    "id": "EMQAHr7QhWAX"
   },
   "source": [
    "### Part 2:\n",
    "\n",
    "Produce k-Nearest Neighbors models with k $\\in$ [1,3,5,7,9].  Evaluate and show the accuracy of each model. For the 1-Nearest Neighbor model, additionally show the precision, recall, and F1 for each label. Which digit is the most difficult for the 1-Nearest Neighbor model to recognize?\n",
    "\n",
    "Notes:\n",
    "* Train on the mini train set.\n",
    "* Evaluate performance on the dev set.\n",
    "* You can use `KNeighborsClassifier` to produce a k-nearest neighbor model.\n",
    "* You can use `classification_report` to get precision, recall, and F1 results."
   ]
  },
  {
   "cell_type": "code",
   "execution_count": 243,
   "metadata": {
    "colab": {},
    "colab_type": "code",
    "id": "-it5pn8-hWAY"
   },
   "outputs": [
    {
     "name": "stdout",
     "output_type": "stream",
     "text": [
      "Percent correct when k=1: 0.884\n",
      "Percent correct when k=3: 0.876\n",
      "Percent correct when k=5: 0.882\n",
      "Percent correct when k=7: 0.877\n",
      "Percent correct when k=9: 0.875\n",
      "\n",
      "Classification report for k=1:\n",
      "              precision    recall  f1-score   support\n",
      "\n",
      "           0       0.95      0.95      0.95       106\n",
      "           1       0.89      0.98      0.93       118\n",
      "           2       0.90      0.79      0.84       106\n",
      "           3       0.93      0.87      0.90        97\n",
      "           4       0.91      0.85      0.88        92\n",
      "           5       0.86      0.88      0.87        88\n",
      "           6       0.92      0.92      0.92       102\n",
      "           7       0.85      0.94      0.89       102\n",
      "           8       0.83      0.77      0.80        94\n",
      "           9       0.80      0.86      0.83        95\n",
      "\n",
      "    accuracy                           0.88      1000\n",
      "   macro avg       0.88      0.88      0.88      1000\n",
      "weighted avg       0.89      0.88      0.88      1000\n",
      "\n"
     ]
    }
   ],
   "source": [
    "def P2(k_values):\n",
    "\n",
    "### STUDENT START ###\n",
    "\n",
    "    # Define some variables to store the k=1 data to\n",
    "    # be used for printing the k=1 classification report\n",
    "    k1_labels = None\n",
    "    k1_predictions = None\n",
    "\n",
    "    # iterate through each k-value\n",
    "    for k in k_values:\n",
    "        \n",
    "        # set the KNN classifier to the value of \"k\"\n",
    "        model = KNeighborsClassifier(k)\n",
    "        \n",
    "        # use the mini_train_data to train the model\n",
    "        model.fit(mini_train_data, mini_train_labels)\n",
    "        \n",
    "        # predict the digit label using the dev_data\n",
    "        dev_predictions = model.predict(dev_data)\n",
    "        \n",
    "        # determine the percentage of correct predictions by \n",
    "        # summing up the predictions that match the labels \n",
    "        # and divide by the total number of predictions\n",
    "        percent = np.sum(dev_predictions == dev_labels) / len(dev_predictions)\n",
    "        print(\"Percent correct when k={}: {}\".format(k, percent))\n",
    "        \n",
    "        # if k is 1 then store our labels and prediction \n",
    "        # data to print the classification report\n",
    "        if k == 1:\n",
    "            k1_labels, k1_predictions = dev_labels, dev_predictions\n",
    "\n",
    "    # If a k-value of 1 was passed to the function \n",
    "    # then print a classification report for that value\n",
    "    if not (k1_labels is None):        \n",
    "        print(\"\\nClassification report for k=1:\")\n",
    "        print(classification_report(k1_labels, k1_predictions))\n",
    "    \n",
    "### STUDENT END ###\n",
    "\n",
    "k_values = [1, 3, 5, 7, 9]\n",
    "P2(k_values)"
   ]
  },
  {
   "cell_type": "markdown",
   "metadata": {
    "colab_type": "text",
    "id": "tZc9gzn5hWAZ"
   },
   "source": [
    "ANSWER:\n",
    "\n",
    "The lowest precision score for the KNN model with k=1 appears to be the number 9.  The precision measure is calculated by dividing the true positives identified by the sum of true positives and false positives (`TP/(TP+FP)`).  When examining the recall scores the 8 digit performed the worst in the model.  Alternatively to the precision score the recall score examines the relationship between true positives and false negatives (`TP/(TP+FN)`).  The f1-score takes both the precision and recall score into account to determine an overall accuracy of the model.  Looking at the f1-scores the 8 digit was the most difficult for the model to recognize with a score of 0.80."
   ]
  },
  {
   "cell_type": "markdown",
   "metadata": {
    "colab_type": "text",
    "id": "7b6YEAzzhWAa"
   },
   "source": [
    "### Part 3:\n",
    "\n",
    "Produce 1-Nearest Neighbor models using training data of various sizes.  Evaluate and show the performance of each model.  Additionally, show the time needed to measure the performance of each model.\n",
    "\n",
    "Notes:\n",
    "* Train on subsets of the train set.  For each subset, take just the first part of the train set without re-ordering.\n",
    "* Evaluate on the dev set.\n",
    "* You can use `KNeighborsClassifier` to produce a k-nearest neighbor model.\n",
    "* You can use `time.time()` to measure elapsed time of operations."
   ]
  },
  {
   "cell_type": "code",
   "execution_count": 244,
   "metadata": {
    "colab": {},
    "colab_type": "code",
    "id": "gEpNzDEjhWAa"
   },
   "outputs": [
    {
     "name": "stdout",
     "output_type": "stream",
     "text": [
      "|   Training Size |   Accuracy |   Elapsed Time |\n",
      "|-----------------|------------|----------------|\n",
      "|             100 |      0.702 |       0.134142 |\n",
      "|             200 |      0.791 |       0.244105 |\n",
      "|             400 |      0.811 |       0.463818 |\n",
      "|             800 |      0.866 |       0.91457  |\n",
      "|            1600 |      0.905 |       1.91254  |\n",
      "|            3200 |      0.927 |       3.74071  |\n",
      "|            6400 |      0.939 |       7.64175  |\n",
      "|           12800 |      0.952 |      15.3776   |\n",
      "|           25600 |      0.963 |      31.3609   |\n"
     ]
    }
   ],
   "source": [
    "def P3(train_sizes):\n",
    "\n",
    "### STUDENT START ###\n",
    "\n",
    "    # set variables for priting the results table\n",
    "    rows = {\"Training Size\":[], \"Accuracy\":[], \"Elapsed Time\":[]}\n",
    "    \n",
    "    # iterate through each desired size of training data\n",
    "    for size in train_sizes:\n",
    "        \n",
    "        # ensure that the desired training size does not exceed\n",
    "        # the ammount of training data available\n",
    "        if size > len(train_data):\n",
    "            err = \"desired training size cannot exceed {}: {}\"\n",
    "            print(err.format(len(train_data), size))\n",
    "            continue\n",
    "            \n",
    "        # create a model as k=1\n",
    "        model = KNeighborsClassifier(1)\n",
    "        \n",
    "        # fit a model with the desired training data size\n",
    "        model.fit(train_data[:size], train_labels[:size])\n",
    "        \n",
    "        # run predictions using dev_data\n",
    "        # record the elapsed time to run the predictions\n",
    "        start_time = time.time()\n",
    "        dev_predictions = model.predict(dev_data)\n",
    "        elapsed_time = time.time() - start_time\n",
    "        \n",
    "        # calculate the predition accuracy\n",
    "        accuracy = np.sum(dev_predictions==dev_labels) / len(dev_predictions)\n",
    "        \n",
    "        # append results to the \"rows\" variable\n",
    "        rows[\"Training Size\"].append(size)\n",
    "        rows[\"Accuracy\"].append(accuracy)\n",
    "        rows[\"Elapsed Time\"].append(elapsed_time)\n",
    "    \n",
    "    return rows\n",
    "\n",
    "\n",
    "### STUDENT END ###\n",
    "\n",
    "train_sizes = [100, 200, 400, 800, 1600, 3200, 6400, 12800, 25600]\n",
    "accuracies = P3(train_sizes)\n",
    "\n",
    "# print a table of the results\n",
    "print(tabulate(accuracies, headers='keys', tablefmt=\"github\"))\n"
   ]
  },
  {
   "cell_type": "markdown",
   "metadata": {
    "colab_type": "text",
    "id": "B56lVsKNhWAc"
   },
   "source": [
    "### Part 4:\n",
    "\n",
    "Produce a linear regression model that predicts accuracy of a 1-Nearest Neighbor model given training set size. Show $R^2$ of the linear regression model.  Show the accuracies predicted for training set sizes 60000, 120000, and 1000000.  Show a lineplot of actual accuracies and predicted accuracies vs. training set size over the range of training set sizes in the training data.  What's wrong with using linear regression here?\n",
    "\n",
    "Apply a transformation to the predictor features and a transformation to the outcome that make the predictions more reasonable.  Show $R^2$ of the improved linear regression model.  Show the accuracies predicted for training set sizes 60000, 120000, and 1000000.  Show a lineplot of actual accuracies and predicted accuracies vs. training set size over the range of training set sizes in the training data - be sure to display accuracies and training set sizes in appropriate units.\n",
    "\n",
    "Notes:\n",
    "* Train the linear regression models on all of the (transformed) accuracies estimated in Problem 3.\n",
    "* Evaluate the linear regression models on all of the (transformed) accuracies estimated in Problem 3.\n",
    "* You can use `LinearRegression` to produce a linear regression model.\n",
    "* Remember that the sklearn `fit()` functions take an input matrix X and output vector Y. So, each input example in X is a vector, even if it contains only a single value.\n",
    "* Hint re: predictor feature transform: Accuracy increases with training set size logarithmically.\n",
    "* Hint re: outcome transform: When y is a number in range 0 to 1, then odds(y)=y/(1-y) is a number in range 0 to infinity."
   ]
  },
  {
   "cell_type": "code",
   "execution_count": 245,
   "metadata": {
    "colab": {},
    "colab_type": "code",
    "id": "4xE_qIJghWAc"
   },
   "outputs": [
    {
     "name": "stdout",
     "output_type": "stream",
     "text": [
      "Linear regression model without data transformation\n",
      "Accuracy prediction for a training size of 60000:  1.236\n",
      "Coefficients:  [6.68758138e-06]\n"
     ]
    },
    {
     "data": {
      "image/png": "[encoded data removed]",
      "text/plain": [
       "<Figure size 432x288 with 1 Axes>"
      ]
     },
     "metadata": {
      "needs_background": "light"
     },
     "output_type": "display_data"
    },
    {
     "name": "stdout",
     "output_type": "stream",
     "text": [
      "Linear regression model using a log transformation of the data\n",
      "Accuracy prediction for a training size of 60000:  1.034\n",
      "Coefficients:  [0.04433883]\n"
     ]
    },
    {
     "data": {
      "image/png": "[encoded data removed]",
      "text/plain": [
       "<Figure size 432x288 with 1 Axes>"
      ]
     },
     "metadata": {
      "needs_background": "light"
     },
     "output_type": "display_data"
    },
    {
     "name": "stdout",
     "output_type": "stream",
     "text": [
      "Linear regression model without data transformation\n",
      "Accuracy prediction for a training size of 120000:  1.637\n",
      "Coefficients:  [6.68758138e-06]\n"
     ]
    },
    {
     "data": {
      "image/png": "[encoded data removed]",
      "text/plain": [
       "<Figure size 432x288 with 1 Axes>"
      ]
     },
     "metadata": {
      "needs_background": "light"
     },
     "output_type": "display_data"
    },
    {
     "name": "stdout",
     "output_type": "stream",
     "text": [
      "Linear regression model using a log transformation of the data\n",
      "Accuracy prediction for a training size of 120000:  1.064\n",
      "Coefficients:  [0.04433883]\n"
     ]
    },
    {
     "data": {
      "image/png": "[encoded data removed]",
      "text/plain": [
       "<Figure size 432x288 with 1 Axes>"
      ]
     },
     "metadata": {
      "needs_background": "light"
     },
     "output_type": "display_data"
    },
    {
     "name": "stdout",
     "output_type": "stream",
     "text": [
      "Linear regression model without data transformation\n",
      "Accuracy prediction for a training size of 1000000:  7.522\n",
      "Coefficients:  [6.68758138e-06]\n"
     ]
    },
    {
     "data": {
      "image/png": "[encoded data removed]",
      "text/plain": [
       "<Figure size 432x288 with 1 Axes>"
      ]
     },
     "metadata": {
      "needs_background": "light"
     },
     "output_type": "display_data"
    },
    {
     "name": "stdout",
     "output_type": "stream",
     "text": [
      "Linear regression model using a log transformation of the data\n",
      "Accuracy prediction for a training size of 1000000:  1.158\n",
      "Coefficients:  [0.04433883]\n"
     ]
    },
    {
     "data": {
      "image/png": "[encoded data removed]",
      "text/plain": [
       "<Figure size 432x288 with 1 Axes>"
      ]
     },
     "metadata": {
      "needs_background": "light"
     },
     "output_type": "display_data"
    }
   ],
   "source": [
    "### STUDENT START ###\n",
    "\n",
    "def P4(train_sizes, accuracies, predict_size, transform=False):\n",
    "    \n",
    "    # reshape the vectors into matrices to use fit()\n",
    "    ts_array = np.asarray(train_sizes).reshape(-1,1)\n",
    "    tset = np.array([predict_size]).reshape(-1,1)\n",
    "    \n",
    "    # perform a log transformation of the data if specified by caller\n",
    "    if transform:\n",
    "        ts_array = np.log(ts_array)\n",
    "        tset = np.log(tset)\n",
    "\n",
    "    # create and fit the linear regression model\n",
    "    lr = LinearRegression()\n",
    "    lr.fit(ts_array, accuracies)\n",
    "\n",
    "    # Generate the message string to print out the accuracy results\n",
    "    msg = \"Accuracy prediction for a training size of {}: {: .3f}\"\n",
    "    print(msg.format(predict_size, lr.predict(tset)[0]))\n",
    "    print(\"Coefficients: \", lr.coef_)\n",
    "    \n",
    "    # print the plot of the results\n",
    "    plt.scatter(train_sizes, accuracies)\n",
    "    plt.plot(train_sizes, lr.predict(ts_array))\n",
    "    plt.axhline(y = 1.0, color = 'r')\n",
    "    plt.xlim([0, predict_size]), plt.ylim([0.5, 1.5])\n",
    "    plt.show()\n",
    "\n",
    "# Iterate through the various training set sizes for the prediction\n",
    "for predict in [60000, 120000, 1000000]:\n",
    "    print(\"Linear regression model without data transformation\")\n",
    "    P4(train_sizes, accuracies[\"Accuracy\"], predict)\n",
    "    \n",
    "    print(\"Linear regression model using a log transformation of the data\")\n",
    "    P4(train_sizes, accuracies[\"Accuracy\"], predict, transform=True)\n",
    "\n",
    "\n",
    "### STUDENT END ###"
   ]
  },
  {
   "cell_type": "markdown",
   "metadata": {
    "colab_type": "text",
    "id": "HYYYL9cGhWAe"
   },
   "source": [
    "ANSWER:\n",
    "\n",
    "While the prediction results looked much better using a log transformation when building the linear regression, it still is not an accurate predictor.  All sizes of training set data tested produced accuracy predictions greater than one, which is impossible.  It is possible that the accuracy of the linerar regression is better with smaller training set sizes, but the model clearly falls apart with large training sets."
   ]
  },
  {
   "cell_type": "markdown",
   "metadata": {
    "colab_type": "text",
    "id": "geAQJjGRhWAe"
   },
   "source": [
    "### Part 5:\n",
    "\n",
    "Produce a 1-Nearest Neighbor model and show the confusion matrix. Which pair of digits does the model confuse most often? Show the images of these most often confused digits.\n",
    "\n",
    "Notes:\n",
    "- Train on the mini train set.\n",
    "- Evaluate performance on the dev set.\n",
    "- You can use `confusion_matrix()` to produce a confusion matrix."
   ]
  },
  {
   "cell_type": "code",
   "execution_count": 251,
   "metadata": {},
   "outputs": [],
   "source": [
    "def print_cm(cm, labels, hide_zeroes=False, hide_diagonal=False, hide_threshold=None):\n",
    "    \"\"\"pretty print for confusion matrixes\"\"\"\n",
    "    columnwidth = max([len(x) for x in labels] + [5])  # 5 is value length\n",
    "    empty_cell = \" \" * columnwidth\n",
    "    # Print header\n",
    "    print(\"    \" + empty_cell, end=\" \")\n",
    "    for label in labels:\n",
    "        print(\"%{0}s\".format(columnwidth) % label, end=\" \")\n",
    "    print()\n",
    "    # Print rows\n",
    "    for i, label1 in enumerate(labels):\n",
    "        print(\"    %{0}s\".format(columnwidth) % label1, end=\" \")\n",
    "        for j in range(len(labels)):\n",
    "            cell = \"%{0}.1f\".format(columnwidth) % cm[i, j]\n",
    "            if hide_zeroes:\n",
    "                cell = cell if float(cm[i, j]) != 0 else empty_cell\n",
    "            if hide_diagonal:\n",
    "                cell = cell if i != j else empty_cell\n",
    "            if hide_threshold:\n",
    "                cell = cell if cm[i, j] > hide_threshold else empty_cell\n",
    "            print(cell, end=\" \")\n",
    "        print()"
   ]
  },
  {
   "cell_type": "code",
   "execution_count": 252,
   "metadata": {
    "colab": {},
    "colab_type": "code",
    "id": "Bq36xaQohWAf"
   },
   "outputs": [
    {
     "name": "stdout",
     "output_type": "stream",
     "text": [
      "              0     1     2     3     4     5     6     7     8     9 \n",
      "        0 101.0   0.0   1.0   0.0   0.0   0.0   1.0   1.0   2.0   0.0 \n",
      "        1   0.0 116.0   1.0   0.0   0.0   0.0   0.0   0.0   1.0   0.0 \n",
      "        2   1.0   4.0  84.0   2.0   2.0   0.0   2.0   4.0   6.0   1.0 \n",
      "        3   0.0   2.0   0.0  84.0   0.0   6.0   0.0   2.0   3.0   0.0 \n",
      "        4   0.0   0.0   1.0   0.0  78.0   0.0   0.0   2.0   0.0  11.0 \n",
      "        5   2.0   0.0   0.0   1.0   1.0  77.0   5.0   0.0   2.0   0.0 \n",
      "        6   1.0   2.0   1.0   0.0   1.0   2.0  94.0   0.0   1.0   0.0 \n",
      "        7   0.0   1.0   1.0   0.0   0.0   0.0   0.0  96.0   0.0   4.0 \n",
      "        8   1.0   5.0   4.0   3.0   1.0   3.0   0.0   1.0  72.0   4.0 \n",
      "        9   0.0   1.0   0.0   0.0   3.0   2.0   0.0   7.0   0.0  82.0 \n",
      "The following images were miscategorized as the number 9, when they are actually labeled as a 4\n"
     ]
    },
    {
     "data": {
      "image/png": "[encoded data removed]",
      "text/plain": [
       "<Figure size 432x288 with 11 Axes>"
      ]
     },
     "metadata": {
      "needs_background": "light"
     },
     "output_type": "display_data"
    }
   ],
   "source": [
    "def P5():\n",
    "\n",
    "### STUDENT START ###\n",
    "\n",
    "    # get our list of labes to be used to generate the confusion matrix\n",
    "    labels = np.unique(Y)\n",
    "    \n",
    "    # Create a KNN model with 1-Nearest Neighbor\n",
    "    model = KNeighborsClassifier(n_neighbors=1)\n",
    "    \n",
    "    # fit the model using the mini training data\n",
    "    model.fit(mini_train_data, mini_train_labels)\n",
    "    \n",
    "    # run predictions on the dev data set\n",
    "    dev_pred = model.predict(dev_data)\n",
    "    \n",
    "    # generate the confusion matrix\n",
    "    cm = confusion_matrix(dev_labels, dev_pred, labels)\n",
    "    \n",
    "    # print the confusion matrix\n",
    "    print_cm(cm, labels)\n",
    "    \n",
    "    # Collect the miscategorized 4s which wre labeled as 9s\n",
    "    errors = dev_data[(dev_labels != dev_pred) & (dev_labels == '4') & (dev_pred == '9')]\n",
    "\n",
    "    # Iterate through each of the errors where 4s were predicted to be 9s\n",
    "    print('The following images were miscategorized as the number 9, when they are actually labeled as a 4')\n",
    "    index = 1\n",
    "    for error in errors:\n",
    "\n",
    "        # Create a subplot at the specified index\n",
    "        plt.subplot(1, len(errors), index)\n",
    "\n",
    "        # Hide tickmarks and scale\n",
    "        plt.axis('off')\n",
    "\n",
    "        # Reshape and plot the sample digit\n",
    "        plt.imshow(error.reshape((28,28)), cmap='binary')\n",
    "\n",
    "        # move index to next element\n",
    "        index += 1\n",
    "    \n",
    "### STUDENT END ###\n",
    "\n",
    "P5()"
   ]
  },
  {
   "cell_type": "markdown",
   "metadata": {},
   "source": [
    "ANSWER: \n",
    "\n",
    "The number 4 appears to be the most often miscategorized number.  There were 11 instances of the number four being miscategorized as a nine."
   ]
  },
  {
   "cell_type": "markdown",
   "metadata": {
    "colab_type": "text",
    "id": "tgqMKb-hhWAh"
   },
   "source": [
    "### Part 6:\n",
    "\n",
    "A common image processing technique is to smooth an image by blurring. The idea is that the value of a particular pixel is estimated as the weighted combination of the original value and the values around it. Typically, the blurring is Gaussian, i.e., the weight of a pixel's influence is determined by a Gaussian function over the distance to the relevant pixel.\n",
    "\n",
    "Implement a simplified Gaussian blur filter by just using the 8 neighboring pixels like this: the smoothed value of a pixel is a weighted combination of the original value and the 8 neighboring values.\n",
    "\n",
    "Pick a weight, then produce and evaluate four 1-Nearest Neighbor models by applying your blur filter in these ways:\n",
    "- Do not use the filter\n",
    "- Filter the training data but not the dev data\n",
    "- Filter the dev data but not the training data\n",
    "- Filter both training data and dev data\n",
    "\n",
    "Show the accuracies of the four models evaluated as described.  Try to pick a weight that makes one model's accuracy at least 0.9.\n",
    "\n",
    "Notes:\n",
    "* Train on the (filtered) mini train set.\n",
    "* Evaluate performance on the (filtered) dev set.\n",
    "* There are other Guassian blur filters available, for example in `scipy.ndimage.filters`. You are welcome to experiment with those, but you are likely to get the best results with the simplified version described above."
   ]
  },
  {
   "cell_type": "code",
   "execution_count": 253,
   "metadata": {
    "colab": {},
    "colab_type": "code",
    "id": "lSKHmHGshWAi"
   },
   "outputs": [
    {
     "name": "stdout",
     "output_type": "stream",
     "text": [
      "non-filtered accuracy: 0.884\n",
      "filtered dev accuracy: 0.886\n",
      "filtered training accuracy: 0.703\n",
      "filtered dev and training accuracy: 0.896\n"
     ]
    }
   ],
   "source": [
    "def P6():\n",
    "    \n",
    "### STUDENT START ###\n",
    "\n",
    "    # define a function to perform the blurring of the data\n",
    "    def blur_data(data):\n",
    "        blurred = []   \n",
    "\n",
    "        # iterate through all data elements\n",
    "        for i in range(data.shape[0]):\n",
    "            \n",
    "            # reshape the image into a 28 x 28 grid\n",
    "            img = data[i].reshape(28,28)\n",
    "            \n",
    "            # create a new np array for the blurred image\n",
    "            temp = np.zeros((28,28))\n",
    "            \n",
    "            # iterate over each row\n",
    "            for row in range(28):\n",
    "                \n",
    "                # iterate over each column\n",
    "                for col in range(28):\n",
    "                    \n",
    "                    # get surrounding matrix of the current pixel\n",
    "                    mat3x3 = img[row-1:row+2, col-1:col+2]\n",
    "                    \n",
    "                    # blur the pixel values by applying weighting\n",
    "                    temp[row, col] = img[row, col] + np.sum(mat3x3) * 0.1\n",
    "            \n",
    "            # append the blurred image to the data set\n",
    "            blurred.append(temp.flatten())\n",
    "            \n",
    "        # return blurred data\n",
    "        return blurred\n",
    "    \n",
    "    knn = KNeighborsClassifier(n_neighbors=1)\n",
    "    \n",
    "    knn.fit(mini_train_data, mini_train_labels)\n",
    "    print('non-filtered accuracy: {}'.format(knn.score(dev_data, dev_labels)))\n",
    "  \n",
    "    smoothed_dev = blur_data(dev_data)\n",
    "    print('filtered dev accuracy: {}'.format(knn.score(smoothed_dev, dev_labels)))\n",
    "    \n",
    "    smoothed_train = blur_data(mini_train_data)\n",
    "    knn.fit(smoothed_train, mini_train_labels)\n",
    "    print('filtered training accuracy: {}'.format(knn.score(dev_data, dev_labels)))\n",
    "    \n",
    "    print('filtered dev and training accuracy: {}'.format(knn.score(smoothed_dev, dev_labels)))\n",
    "\n",
    "\n",
    "### STUDENT END ###\n",
    "\n",
    "P6()"
   ]
  },
  {
   "cell_type": "markdown",
   "metadata": {
    "colab_type": "text",
    "id": "LtgepWfAhWAk"
   },
   "source": [
    "### Part 7:\n",
    "\n",
    "Produce two Naive Bayes models and evaluate their performances.  Recall that Naive Bayes estimates P(feature|label), where each label is a categorical, not a real number.\n",
    "\n",
    "For the first model, map pixel values to either 0 or 1, representing white or black - you should pre-process the data or use `BernoulliNB`'s `binarize` parameter to set the white/black separation threshold to 0.1.  Use `BernoulliNB` to produce the model.\n",
    "\n",
    "For the second model, map pixel values to either 0, 1, or 2, representing white, gray, or black - you should pre-process the data, seting the white/gray/black separation thresholds to 0.1 and 0.9.  Use `MultinomialNB` to produce the model. \n",
    "\n",
    "Show the Bernoulli model accuracy and the Multinomial model accuracy.\n",
    "\n",
    "Notes:\n",
    "* Train on the mini train set.\n",
    "* Evaluate performance on the dev set.\n",
    "* `sklearn`'s Naive Bayes methods can handle real numbers, but for this exercise explicitly do the mapping to categoricals. \n",
    "\n",
    "Does the multinomial version improve the results? Why or why not?"
   ]
  },
  {
   "cell_type": "code",
   "execution_count": 254,
   "metadata": {
    "colab": {},
    "colab_type": "code",
    "id": "eGpH-4IQhWAk"
   },
   "outputs": [
    {
     "name": "stdout",
     "output_type": "stream",
     "text": [
      "BernoulliNB accuracy: 0.814\n",
      "MultinomialNB accuracy: 0.807\n"
     ]
    }
   ],
   "source": [
    "def P7():\n",
    "\n",
    "### STUDENT START ###\n",
    "\n",
    "    # to trinary maps a 0, 1, or 2 to a pixel value to indicate if it is white, grey, or black\n",
    "    def to_trinary(data):\n",
    "        trinary = np.zeros(data.shape)\n",
    "        # numbers gretaer than 0.1 indicate a grey value\n",
    "        trinary[(data > 0.1)] = 1\n",
    "        \n",
    "        # numbers that are greater than 0.9 indicate black\n",
    "        trinary[(data > 0.9)] = 2\n",
    "        \n",
    "        return trinary\n",
    "\n",
    "    # train with binarized data\n",
    "    bnb = BernoulliNB(binarize = 0.1)\n",
    "    bnb.fit(mini_train_data, mini_train_labels)\n",
    "    score = bnb.score(dev_data, dev_labels)\n",
    "    print('BernoulliNB accuracy: {}'.format(score))\n",
    "\n",
    "    # convert data to trinary values\n",
    "    mini_train_data_trinary = to_trinary(mini_train_data)\n",
    "    dev_data_trinary = to_trinary(dev_data)    \n",
    "    mnb = MultinomialNB()\n",
    "    mnb.fit(mini_train_data_trinary, mini_train_labels)\n",
    "    score = mnb.score(dev_data_trinary, dev_labels)\n",
    "    print('MultinomialNB accuracy: {}'.format(score))\n",
    "     \n",
    "### STUDENT END ###\n",
    "\n",
    "P7()"
   ]
  },
  {
   "cell_type": "markdown",
   "metadata": {
    "colab_type": "text",
    "id": "zNLrgggohWAm"
   },
   "source": [
    "ANSWER:\n",
    "\n",
    "The MultinomialNB did not perform better than the binarized data set.  It is important to note that the permormance of the multinomial data set was not significantly worse.  This seems to suggest that the the shade of a pixel has little effect on predicing a digit label."
   ]
  },
  {
   "cell_type": "markdown",
   "metadata": {
    "colab_type": "text",
    "id": "PqjbRLg7hWAm"
   },
   "source": [
    "### Part 8:\n",
    "\n",
    "Search across several values of the LaPlace smoothing parameter (alpha) to find its effect on a Bernoulli Naive Bayes model's performance.  Show the accuracy at each alpha value.\n",
    "\n",
    "Notes:\n",
    "* Set binarization threshold to 0.\n",
    "* Train on the mini train set.\n",
    "* Evaluate performance by 5-fold cross-validation. \n",
    "* Use `GridSearchCV(..., ..., cv=..., scoring='accuracy', iid=False)` to vary alpha and evaluate performance by cross-validation.\n",
    "* Cross-validation is based on partitions of the training data, so results will be a bit different than if you had used the dev set to evaluate performance.\n",
    "\n",
    "What is the best value for alpha? What is the accuracy when alpha is near 0? Is this what you'd expect?"
   ]
  },
  {
   "cell_type": "code",
   "execution_count": 255,
   "metadata": {
    "colab": {},
    "colab_type": "code",
    "id": "0AvZ-Wp3hWAn"
   },
   "outputs": [
    {
     "name": "stdout",
     "output_type": "stream",
     "text": [
      "optimized parameters: BernoulliNB(alpha=0.001, binarize=0.0, class_prior=None, fit_prior=True)\n",
      "optimized accuracy: 0.823\n",
      "\n",
      "|   Alpha |   Accuracy |\n",
      "|---------|------------|\n",
      "|  1e-10  |   0.812702 |\n",
      "|  0.0001 |   0.820818 |\n",
      "|  0.001  |   0.82485  |\n",
      "|  0.01   |   0.819848 |\n",
      "|  0.1    |   0.817818 |\n",
      "|  0.5    |   0.815816 |\n",
      "|  1      |   0.810779 |\n",
      "|  2      |   0.804802 |\n",
      "| 10      |   0.780584 |\n",
      "\n",
      "Best alpha =  {'alpha': 0.001}\n"
     ]
    }
   ],
   "source": [
    "def P8(alphas):\n",
    "\n",
    "### STUDENT START ###\n",
    "    nb = GridSearchCV(\n",
    "        BernoulliNB(),\n",
    "        alphas,\n",
    "        cv=5,\n",
    "        scoring='accuracy',\n",
    "        iid=False\n",
    "    )\n",
    "    nb.fit(mini_train_data, mini_train_labels)\n",
    "    \n",
    "    print('optimized parameters: {}'.format(nb.best_estimator_))\n",
    "    print('optimized accuracy: {}\\n'.format(nb.score(dev_data, dev_labels)))\n",
    "    \n",
    "    scores = nb.cv_results_['mean_test_score']\n",
    "    params = list(map(lambda x: list(x.values())[0], nb.cv_results_['params']))\n",
    "    \n",
    "    rows = {\"Alpha\":[], \"Accuracy\":[]}\n",
    "    for score, param in zip(scores, params):\n",
    "        rows[\"Alpha\"].append(param)\n",
    "        rows[\"Accuracy\"].append(score)\n",
    "    \n",
    "    # print a table of the results\n",
    "    print(tabulate(rows, headers='keys', tablefmt=\"github\"))\n",
    "\n",
    "    return nb\n",
    "\n",
    "\n",
    "### STUDENT END ###\n",
    "\n",
    "alphas = {'alpha': [1.0e-10, 0.0001, 0.001, 0.01, 0.1, 0.5, 1.0, 2.0, 10.0]}\n",
    "nb = P8(alphas)\n",
    "print(\"\\nBest alpha = \", nb.best_params_)"
   ]
  },
  {
   "cell_type": "markdown",
   "metadata": {
    "colab_type": "text",
    "id": "1yEg9keThWAp"
   },
   "source": [
    "ANSWER:\n",
    "\n",
    "The best accuracy was with an alpha value of 0.001.  The accuracy with an alpha very near 0 was slightly worse than the best accuracy.  As the alpha values got large (over 2) the accuracy declined significantly.  It appears that smoothing values of less than one are ideal and even a small alpha is able to help optimize the model."
   ]
  },
  {
   "cell_type": "markdown",
   "metadata": {
    "colab_type": "text",
    "id": "B07GDiDdhWAq"
   },
   "source": [
    "### Part 9:\n",
    "\n",
    "Produce a model using Guassian Naive Bayes, which is intended for real-valued features, and evaluate performance. You will notice that it does not work so well. Diagnose the problem and apply a simple fix so that the model accuracy is around the same as for a Bernoulli Naive Bayes model. Show the model accuracy before your fix and the model accuracy after your fix.  Explain your solution.\n",
    "\n",
    "Notes:\n",
    "* Train on the mini train set.\n",
    "* Evaluate performance on the dev set.\n",
    "* Consider the effects of theta and sigma.  These are stored in the model's `theta_` and `sigma_` attributes."
   ]
  },
  {
   "cell_type": "code",
   "execution_count": 256,
   "metadata": {
    "colab": {},
    "colab_type": "code",
    "id": "gBLbTMWChWAq"
   },
   "outputs": [
    {
     "name": "stdout",
     "output_type": "stream",
     "text": [
      "GaussianNB accuracy: 0.593\n",
      "Adjusted sigma accuracy: 0.804\n"
     ]
    }
   ],
   "source": [
    "def P9():\n",
    "\n",
    "### STUDENT END ###\n",
    "    gnb = GaussianNB()\n",
    "    gnb.fit(mini_train_data, mini_train_labels)\n",
    "    print('GaussianNB accuracy: {}'.format(gnb.score(dev_data, dev_labels)))\n",
    "    \n",
    "    for digit in range(10):\n",
    "        for i in range(len(gnb.sigma_[digit])):\n",
    "            gnb.sigma_[digit][i] = 0.001\n",
    "    \n",
    "    print('Adjusted sigma accuracy: {}'.format(gnb.score(dev_data, dev_labels)))\n",
    "\n",
    "### STUDENT END ###\n",
    "\n",
    "P9()"
   ]
  },
  {
   "cell_type": "markdown",
   "metadata": {
    "colab_type": "text",
    "id": "1SyHTEJohWAt"
   },
   "source": [
    "ANSWER:\n",
    "\n",
    "The poor performance of the GaussianNB solution was due to a lack of smoothing which introduced probabilities of zero which would cause an output of zero when multiplied across.  We can account for this by setting the sigma value for each data element."
   ]
  },
  {
   "cell_type": "markdown",
   "metadata": {
    "colab_type": "text",
    "id": "dgZMuc1VhWAt"
   },
   "source": [
    "### Part 10:\n",
    "\n",
    "Because Naive Bayes produces a generative model, you can use it to generate digit images.\n",
    "\n",
    "Produce a Bernoulli Naive Bayes model and then use it to generate a 10x20 grid with 20 example images of each digit. Each pixel output should be either 0 or 1, based on comparing some randomly generated number to the estimated probability of the pixel being either 0 or 1.  Show the grid.\n",
    "\n",
    "Notes:\n",
    "* You can use np.random.rand() to generate random numbers from a uniform distribution.\n",
    "* The estimated probability of each pixel being 0 or 1 is stored in the model's `feature_log_prob_` attribute. You can use `np.exp()` to convert a log probability back to a probability.\n",
    "\n",
    "How do the generated digit images compare to the training digit images?"
   ]
  },
  {
   "cell_type": "code",
   "execution_count": 257,
   "metadata": {
    "colab": {},
    "colab_type": "code",
    "id": "ktii-Mp-hWAu"
   },
   "outputs": [
    {
     "data": {
      "image/png": "[encoded data removed]",
      "text/plain": [
       "<Figure size 1440x720 with 200 Axes>"
      ]
     },
     "metadata": {
      "needs_background": "light"
     },
     "output_type": "display_data"
    }
   ],
   "source": [
    "def P10(num_examples):\n",
    "\n",
    "### STUDENT START ###\n",
    "    def generate(probablility):\n",
    "        n = probablility.shape[0]\n",
    "        r = np.random.rand(n)\n",
    "        d = np.zeros(n)\n",
    "        for i in range(n):\n",
    "            if r[i] < np.exp(probablility[i]): \n",
    "                d[i] = 1\n",
    "        return d\n",
    "                             \n",
    "    nb = BernoulliNB(alpha = 0.001)\n",
    "    nb.fit(mini_train_data, mini_train_labels)\n",
    "    \n",
    "    plt.figure(figsize=(num_examples, 10))\n",
    "    plt.rc('image', cmap='binary')\n",
    "    \n",
    "    # index is used to iterate through each grid position\n",
    "    # The size of the grid is num_labels * num_examples\n",
    "    index = 1\n",
    "    \n",
    "    for digit in range(10):\n",
    "        for _ in range(num_examples):\n",
    "            d = generate(nb.feature_log_prob_[digit])\n",
    "            \n",
    "            # Create a subplot at the specified index\n",
    "            plt.subplot(10, num_examples, index)\n",
    "            \n",
    "            # Hide tickmarks and scale\n",
    "            plt.axis('off')\n",
    "        \n",
    "            # Reshape and plot the sample digit\n",
    "            plt.imshow(d.reshape((28,28)), cmap='binary')\n",
    "                        \n",
    "            # move index to next element\n",
    "            index += 1            \n",
    "\n",
    "### STUDENT END ###\n",
    "\n",
    "P10(20)"
   ]
  },
  {
   "cell_type": "markdown",
   "metadata": {
    "colab_type": "text",
    "id": "SuQd1fTGhWAw"
   },
   "source": [
    "ANSWER:\n",
    "\n",
    "The generated images are much less smooth than the training images.  A reason why these images do not look the same as the hand drawn images is becuase each pixel value was determined independently of its neighboring values.  This is why the images look like they were created with a lot of dots instead a smooth stroke of a writing utensil."
   ]
  },
  {
   "cell_type": "markdown",
   "metadata": {
    "colab_type": "text",
    "id": "ksHMg73uhWAx"
   },
   "source": [
    "### Part 11:\n",
    "\n",
    "Recall that a strongly calibrated classifier is rougly 90% accurate when the posterior probability of the predicted class is 0.9. A weakly calibrated classifier is more accurate when the posterior probability of the predicted class is 90% than when it is 80%. A poorly calibrated classifier has no positive correlation between posterior probability and accuracy.  \n",
    "\n",
    "Produce a Bernoulli Naive Bayes model.  Evaluate performance: partition the dev set into several buckets based on the posterior probabilities of the predicted classes - think of a bin in a histogram- and then estimate the accuracy for each bucket. So, for each prediction, find the bucket to which the maximum posterior probability belongs, and update \"correct\" and \"total\" counters accordingly.  Show the accuracy for each bucket.\n",
    "\n",
    "Notes:\n",
    "* Set LaPlace smoothing (alpha) to the optimal value (from part 8).\n",
    "* Set binarization threshold to 0.\n",
    "* Train on the mini train set.\n",
    "* Evaluate perfromance on the dev set.\n",
    "\n",
    "How would you characterize the calibration for this Bernoulli Naive Bayes model?"
   ]
  },
  {
   "cell_type": "code",
   "execution_count": 258,
   "metadata": {
    "colab": {},
    "colab_type": "code",
    "id": "a1N-St12hWAy"
   },
   "outputs": [
    {
     "name": "stdout",
     "output_type": "stream",
     "text": [
      "p(pred) is 0.0000000000000 to 0.5000000000000    total =   0    accuracy = 0.000\n",
      "p(pred) is 0.5000000000000 to 0.9000000000000    total =  31    accuracy = 0.355\n",
      "p(pred) is 0.9000000000000 to 0.9990000000000    total =  67    accuracy = 0.433\n",
      "p(pred) is 0.9990000000000 to 0.9999900000000    total =  59    accuracy = 0.458\n",
      "p(pred) is 0.9999900000000 to 0.9999999000000    total =  46    accuracy = 0.652\n",
      "p(pred) is 0.9999999000000 to 0.9999999990000    total =  62    accuracy = 0.774\n",
      "p(pred) is 0.9999999990000 to 0.9999999999900    total =  33    accuracy = 0.788\n",
      "p(pred) is 0.9999999999900 to 0.9999999999999    total =  43    accuracy = 0.791\n",
      "p(pred) is 0.9999999999999 to 1.0000000000000    total = 659    accuracy = 0.938\n"
     ]
    }
   ],
   "source": [
    "def P11(buckets, correct, total):\n",
    "    \n",
    "### STUDENT START ###\n",
    "\n",
    "    nb = BernoulliNB(alpha = 0.001)\n",
    "    nb.fit(mini_train_data, mini_train_labels)\n",
    "    predict_probs = nb.predict_proba(dev_data)\n",
    "    predict_labels = nb.predict(dev_data)\n",
    "    \n",
    "    for i in range(len(dev_data)):\n",
    "        label = int(dev_labels[i])\n",
    "        predicted = int(predict_labels[i])\n",
    "        probability = predict_probs[i][predicted]\n",
    "        \n",
    "        for index in range(len(buckets)):\n",
    "            bucket = buckets[index]\n",
    "            if probability <= bucket:\n",
    "                total[index] += 1\n",
    "                if predicted == label:\n",
    "                    correct[index] += 1\n",
    "                break\n",
    "                \n",
    "### STUDENT END ###\n",
    "\n",
    "buckets = [0.5, 0.9, 0.999, 0.99999, 0.9999999, 0.999999999, 0.99999999999, 0.9999999999999, 1.0]\n",
    "correct = [0 for i in buckets]\n",
    "total = [0 for i in buckets]\n",
    "\n",
    "P11(buckets, correct, total)\n",
    "\n",
    "for i in range(len(buckets)):\n",
    "    accuracy = 0.0\n",
    "    if (total[i] > 0): accuracy = correct[i] / total[i]\n",
    "    print('p(pred) is %.13f to %.13f    total = %3d    accuracy = %.3f' % (0 if i==0 else buckets[i-1], buckets[i], total[i], accuracy))"
   ]
  },
  {
   "cell_type": "markdown",
   "metadata": {
    "colab_type": "text",
    "id": "h-4qQsrrhWA1"
   },
   "source": [
    "ANSWER:\n",
    "\n",
    "The model does not appear to be well calibrated.  The accuracies are no where near to the predicted probabilities.  A well calibrated model should have prediced probabilities that match the accuracies.  That being said, the accuracies are increasing with the predicted probability which indicates that is it not completely random.\n"
   ]
  },
  {
   "cell_type": "markdown",
   "metadata": {
    "colab_type": "text",
    "id": "jLDISyh4hWA1"
   },
   "source": [
    "### Part 12 EXTRA CREDIT:\n",
    "\n",
    "Design new features to see if you can produce a Bernoulli Naive Bayes model with better performance.  Show the accuracy of a model based on the original features and the accuracy of the model based on the new features.\n",
    "\n",
    "Here are a few ideas to get you started:\n",
    "- Try summing or averaging the pixel values in each row.\n",
    "- Try summing or averaging the pixel values in each column.\n",
    "- Try summing or averaging the pixel values in each square block. (pick various block sizes)\n",
    "- Try counting the number of enclosed regions. (8 usually has 2 enclosed regions, 9 usually has 1, and 7 usually has 0)\n",
    "\n",
    "Notes:\n",
    "* Train on the mini train set (enhanced to comprise the new features).\n",
    "* Evaulate performance on the dev set.\n",
    "* Ensure that your code is well commented."
   ]
  },
  {
   "cell_type": "code",
   "execution_count": 259,
   "metadata": {
    "colab": {},
    "colab_type": "code",
    "id": "-P7h-t2ThWA2"
   },
   "outputs": [],
   "source": [
    "#def P12():\n",
    "\n",
    "### STUDENT START ###\n",
    "\n",
    "\n",
    "### STUDENT END ###\n",
    "\n",
    "#P12()"
   ]
  }
 ],
 "metadata": {
  "colab": {
   "name": "firstname_lastname_p1.ipynb",
   "private_outputs": true,
   "provenance": [
    {
     "file_id": "https://github.com/MIDS-W207/Master/blob/master/Projects/firstname_lastname_p1.ipynb",
     "timestamp": 1557957807607
    }
   ],
   "version": "0.3.2"
  },
  "kernelspec": {
   "display_name": "Python 3",
   "language": "python",
   "name": "python3"
  },
  "language_info": {
   "codemirror_mode": {
    "name": "ipython",
    "version": 3
   },
   "file_extension": ".py",
   "mimetype": "text/x-python",
   "name": "python",
   "nbconvert_exporter": "python",
   "pygments_lexer": "ipython3",
   "version": "3.7.3"
  },
  "toc": {
   "base_numbering": 1,
   "nav_menu": {},
   "number_sections": false,
   "sideBar": true,
   "skip_h1_title": true,
   "title_cell": "Table of Contents",
   "title_sidebar": "Contents",
   "toc_cell": false,
   "toc_position": {},
   "toc_section_display": true,
   "toc_window_display": false
  }
 },
 "nbformat": 4,
 "nbformat_minor": 4
}
